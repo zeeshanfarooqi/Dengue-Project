{
 "cells": [
  {
   "cell_type": "markdown",
   "metadata": {},
   "source": [
    "# Tools & Techniques Project (Dengue Prediction)\n",
    "\n",
    "### Name: Zeeshan Farooqi <br>\n",
    "### Reg : 18101148 <br>\n",
    "\n",
    "    \n",
    "    \n",
    "    "
   ]
  },
  {
   "cell_type": "code",
   "execution_count": 1,
   "metadata": {},
   "outputs": [],
   "source": [
    "import pandas as pd\n",
    "import numpy as np\n",
    "\n",
    "\n",
    "from sklearn import linear_model\n"
   ]
  },
  {
   "cell_type": "markdown",
   "metadata": {},
   "source": [
    "Importing the datasets"
   ]
  },
  {
   "cell_type": "code",
   "execution_count": 2,
   "metadata": {},
   "outputs": [],
   "source": [
    "X_train = pd.read_csv(r\"C:\\Users\\hp\\Downloads\\TT Project\\dengue_features_train.csv\")\n",
    "Y_train = pd.read_csv(r\"C:\\Users\\hp\\Downloads\\TT Project\\dengue_labels_train.csv\")\n",
    "X_test = pd.read_csv(r\"C:\\Users\\hp\\Downloads\\TT Project\\dengue_features_test.csv\")\n"
   ]
  },
  {
   "cell_type": "code",
   "execution_count": 3,
   "metadata": {},
   "outputs": [],
   "source": [
    "# Removing the coloumns\n",
    "X_train.drop(['city', 'year', 'weekofyear', 'week_start_date'], axis=1, inplace=True)\n",
    "X_test.drop(['city', 'year', 'weekofyear', 'week_start_date'], axis=1, inplace=True) "
   ]
  },
  {
   "cell_type": "code",
   "execution_count": 4,
   "metadata": {},
   "outputs": [],
   "source": [
    "X_train.fillna(0,inplace=True)\n",
    "X_test.fillna(0,inplace=True)"
   ]
  },
  {
   "cell_type": "markdown",
   "metadata": {},
   "source": [
    "#### Data Pre Processing"
   ]
  },
  {
   "cell_type": "code",
   "execution_count": 5,
   "metadata": {},
   "outputs": [],
   "source": [
    "# Selecting y values\n",
    "Y_train = Y_train.total_cases.loc[X_train.index]\n"
   ]
  },
  {
   "cell_type": "code",
   "execution_count": 6,
   "metadata": {},
   "outputs": [],
   "source": [
    "#Applying the linear model\n",
    "#from sklearn import linear_model\n",
    "\n",
    "#neigh = linear_model.LogisticRegression(C=1.0, penalty='l1', tol=1e-6)\n",
    "#neigh.fit(X_train, Y_train)\n",
    "#Y_pred = neigh.predict(X_test)\n",
    "\n",
    "##from sklearn.ensemble import RandomForestRegressor\n",
    "#from sklearn.datasets import make_regression\n",
    "\n",
    "\n",
    "#X_train, Y_train = make_regression(n_features=20, n_informative=2,random_state=0, shuffle=False)\n",
    "#regr = RandomForestRegressor(max_depth=2, random_state=0,n_estimators=100)\n",
    "#regr.fit(X_train, Y_train)\n",
    "#Y_pred = regr.predict(X_test)\n",
    "\n",
    "\n",
    "#from sklearn import linear_model\n",
    "#reg = linear_model.LassoLars(alpha=.4)\n",
    "#reg.fit(X_train, Y_train)\n",
    "\n",
    "#from xgboost import XGBRegressor\n",
    "#clf = XGBRegressor(max_depth=5, n_estimators=1000, n_jobs=3)\n",
    "#clf.fit(X_train, Y_train)\n",
    "\n",
    "\n",
    "from sklearn.linear_model import Ridge\n",
    "clf = Ridge(alpha=1.0)\n",
    "clf.fit(X_train, Y_train)\n",
    "Y_pred = clf.predict(X_test)\n"
   ]
  },
  {
   "cell_type": "code",
   "execution_count": 7,
   "metadata": {},
   "outputs": [],
   "source": [
    "#Converting the prediction into Int as per requirment of dataset\n",
    "Y_pred = Y_pred.astype('int64')"
   ]
  },
  {
   "cell_type": "code",
   "execution_count": 8,
   "metadata": {},
   "outputs": [],
   "source": [
    "#Importing the submission format\n",
    "exe = pd.read_csv(r\"C:\\Users\\hp\\Downloads\\TT Project\\submission_format.csv\")"
   ]
  },
  {
   "cell_type": "code",
   "execution_count": 9,
   "metadata": {},
   "outputs": [],
   "source": [
    "exe.total_cases = Y_pred\n",
    "export_excel = exe.to_csv(r'C:\\Users\\hp\\Downloads\\TT Project\\export_dataframe3.csv', index = None, header=True) #Don't forget to add '.xlsx' at the end of the path\n"
   ]
  },
  {
   "cell_type": "code",
   "execution_count": null,
   "metadata": {},
   "outputs": [],
   "source": []
  }
 ],
 "metadata": {
  "kernelspec": {
   "display_name": "Python 3",
   "language": "python",
   "name": "python3"
  },
  "language_info": {
   "codemirror_mode": {
    "name": "ipython",
    "version": 3
   },
   "file_extension": ".py",
   "mimetype": "text/x-python",
   "name": "python",
   "nbconvert_exporter": "python",
   "pygments_lexer": "ipython3",
   "version": "3.6.8"
  }
 },
 "nbformat": 4,
 "nbformat_minor": 2
}
